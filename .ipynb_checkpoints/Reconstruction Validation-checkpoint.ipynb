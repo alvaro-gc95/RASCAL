{
 "cells": [
  {
   "cell_type": "markdown",
   "id": "8b0635ea",
   "metadata": {},
   "source": [
    "# *RECONSTRUCTION VALIDATION*"
   ]
  },
  {
   "cell_type": "markdown",
   "id": "3538238b",
   "metadata": {},
   "source": [
    "The Analog Method (AM) is a statistical downscaling method very well suited for reconstruction of climatic time series. The reconstruction can reproduce the climatic characteristics of the local phenomena a certain region, based on the relationship between the large scale and the observed local weather patterns.\n",
    "\n",
    "To validate the quality of the reconstructions is the important to look how the climatic characteristics are reproduced."
   ]
  },
  {
   "cell_type": "code",
   "execution_count": null,
   "id": "711c9dad",
   "metadata": {},
   "outputs": [],
   "source": [
    "import numpy as np\n",
    "import pandas as pd"
   ]
  },
  {
   "cell_type": "code",
   "execution_count": null,
   "id": "7d3cd345",
   "metadata": {},
   "outputs": [],
   "source": [
    "observations_directory =\n",
    "reanalysis_directory =\n",
    "reconstructions_directory = "
   ]
  },
  {
   "cell_type": "markdown",
   "id": "83250e8b",
   "metadata": {},
   "source": [
    "### Daily Series"
   ]
  },
  {
   "cell_type": "markdown",
   "id": "f68c73d6",
   "metadata": {},
   "source": [
    "### Monthly Series"
   ]
  },
  {
   "cell_type": "markdown",
   "id": "f0e6dafc",
   "metadata": {},
   "source": [
    "### Yearly Series"
   ]
  },
  {
   "cell_type": "markdown",
   "id": "42e50f18",
   "metadata": {},
   "source": [
    "### Seasonality"
   ]
  },
  {
   "cell_type": "markdown",
   "id": "aa293fea",
   "metadata": {},
   "source": [
    "### Distributions"
   ]
  },
  {
   "cell_type": "markdown",
   "id": "abd5e653",
   "metadata": {},
   "source": [
    "### Taylor Diagrams"
   ]
  },
  {
   "cell_type": "code",
   "execution_count": 1,
   "id": "9a046f10",
   "metadata": {},
   "outputs": [
    {
     "ename": "NameError",
     "evalue": "name 'RASCAL' is not defined",
     "output_type": "error",
     "traceback": [
      "\u001b[0;31m---------------------------------------------------------------------------\u001b[0m",
      "\u001b[0;31mNameError\u001b[0m                                 Traceback (most recent call last)",
      "Cell \u001b[0;32mIn[1], line 1\u001b[0m\n\u001b[0;32m----> 1\u001b[0m \u001b[43mRASCAL\u001b[49m\n",
      "\u001b[0;31mNameError\u001b[0m: name 'RASCAL' is not defined"
     ]
    }
   ],
   "source": []
  },
  {
   "cell_type": "code",
   "execution_count": null,
   "id": "71c32be6",
   "metadata": {},
   "outputs": [],
   "source": []
  }
 ],
 "metadata": {
  "kernelspec": {
   "display_name": "Python 3 (ipykernel)",
   "language": "python",
   "name": "python3"
  },
  "language_info": {
   "codemirror_mode": {
    "name": "ipython",
    "version": 3
   },
   "file_extension": ".py",
   "mimetype": "text/x-python",
   "name": "python",
   "nbconvert_exporter": "python",
   "pygments_lexer": "ipython3",
   "version": "3.8.12"
  }
 },
 "nbformat": 4,
 "nbformat_minor": 5
}
