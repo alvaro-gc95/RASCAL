{
 "cells": [
  {
   "cell_type": "markdown",
   "id": "4e916862",
   "metadata": {},
   "source": [
    "# *RECONSTRUCTION VALIDATION*"
   ]
  },
  {
   "cell_type": "markdown",
   "id": "b357812f",
   "metadata": {},
   "source": [
    "The Analog Method (AM) is a statistical downscaling method very well suited for reconstruction of climatic time series. The reconstruction can reproduce the climatic characteristics of the local phenomena a certain region, based on the relationship between the large scale and the observed local weather patterns.\n",
    "\n",
    "To validate the quality of the reconstructions is the important to look how the climatic characteristics are reproduced."
   ]
  },
  {
   "cell_type": "code",
   "execution_count": null,
   "id": "f739cdd8",
   "metadata": {},
   "outputs": [],
   "source": []
  }
 ],
 "metadata": {
  "kernelspec": {
   "display_name": "Python 3 (ipykernel)",
   "language": "python",
   "name": "python3"
  },
  "language_info": {
   "codemirror_mode": {
    "name": "ipython",
    "version": 3
   },
   "file_extension": ".py",
   "mimetype": "text/x-python",
   "name": "python",
   "nbconvert_exporter": "python",
   "pygments_lexer": "ipython3",
   "version": "3.8.12"
  }
 },
 "nbformat": 4,
 "nbformat_minor": 5
}
